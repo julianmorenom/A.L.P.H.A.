{
 "cells": [
  {
   "cell_type": "code",
   "execution_count": 9,
   "metadata": {},
   "outputs": [],
   "source": [
    "import cv2\n",
    "# import math\n",
    "import time\n",
    "import argparse"
   ]
  },
  {
   "cell_type": "code",
   "execution_count": 10,
   "metadata": {},
   "outputs": [],
   "source": [
    "faceProto = \"opencv_face_detector.pbtxt\"\n",
    "faceModel = \"opencv_face_detector_uint8.pb\"\n",
    "\n",
    "genderProto = \"gender_deploy.prototxt\"\n",
    "genderModel = \"gender_net.caffemodel\"\n",
    "\n",
    "MODEL_MEAN_VALUES = (78.4263377603, 87.7689143744, 114.895847746)\n",
    "ageList = ['(0-2)', '(4-6)', '(8-12)', '(15-20)', '(25-32)', '(38-43)', '(48-53)', '(60-100)']\n",
    "genderList = ['Male', 'Female']\n",
    "\n",
    "#load the network\n",
    "genderNet = cv2.dnn.readNet(genderModel, genderProto)\n",
    "faceNet = cv2.dnn.readNet(faceModel, faceProto)\n"
   ]
  },
  {
   "cell_type": "code",
   "execution_count": 11,
   "metadata": {},
   "outputs": [],
   "source": [
    "\n",
    "def getFaceBox(net, frame,conf_threshold = 0.75):\n",
    "    frameOpencvDnn = frame.copy()\n",
    "    frameHeight = frameOpencvDnn.shape[0]\n",
    "    frameWidth = frameOpencvDnn.shape[1]\n",
    "    blob = cv2.dnn.blobFromImage(frameOpencvDnn,1.0,(300,300),[104, 117, 123], True, False)\n",
    "\n",
    "    net.setInput(blob)\n",
    "    detections = net.forward()\n",
    "    bboxes = []\n",
    "\n",
    "    for i in range(detections.shape[2]):\n",
    "        confidence = detections[0,0,i,2]\n",
    "        if confidence > conf_threshold:\n",
    "            x1 = int(detections[0,0,i,3]* frameWidth)\n",
    "            y1 = int(detections[0,0,i,4]* frameHeight)\n",
    "            x2 = int(detections[0,0,i,5]* frameWidth)\n",
    "            y2 = int(detections[0,0,i,6]* frameHeight)\n",
    "            bboxes.append([x1,y1,x2,y2])\n",
    "            cv2.rectangle(frameOpencvDnn,(x1,y1),(x2,y2),(0,255,0),int(round(frameHeight/150)),8)\n",
    "\n",
    "    return frameOpencvDnn , bboxes\n",
    "\n",
    "def detect_age():\n",
    "    cap = cv2.VideoCapture(0)\n",
    "    padding = 20\n",
    "    init_time = time.time()\n",
    "    seq_forward_time = 3\n",
    "    all_genders = []\n",
    "    \n",
    "    while cv2.waitKey(1) < 0:\n",
    "        #read frame\n",
    "        t = time.time()\n",
    "        hasFrame , frame = cap.read()\n",
    "\n",
    "        if not hasFrame:\n",
    "            cv2.waitKey()\n",
    "            break\n",
    "            \n",
    "        #creating a smaller frame for better optimization\n",
    "        small_frame = cv2.resize(frame,(0,0),fx = 0.5,fy = 0.5)\n",
    "\n",
    "        frameFace ,bboxes = getFaceBox(faceNet,small_frame)\n",
    "        if not bboxes:\n",
    "            #print(\"No face Detected, Checking next frame\")\n",
    "            continue\n",
    "        for bbox in bboxes:\n",
    "            face = small_frame[max(0,bbox[1]-padding):min(bbox[3]+padding,frame.shape[0]-1),\n",
    "                    max(0,bbox[0]-padding):min(bbox[2]+padding, frame.shape[1]-1)]\n",
    "            blob = cv2.dnn.blobFromImage(face, 1.0, (227, 227), MODEL_MEAN_VALUES, swapRB=False)\n",
    "            genderNet.setInput(blob)\n",
    "            genderPreds = genderNet.forward()\n",
    "            gender = genderList[genderPreds[0].argmax()]\n",
    "            #print(\"Gender : {}, conf = {:.3f}\".format(gender, genderPreds[0].max()))\n",
    "            \n",
    "            all_genders.append(gender)\n",
    "\n",
    "            label = \"{}\".format(gender)\n",
    "            cv2.putText(frameFace, label, (bbox[0], bbox[1]-10), cv2.FONT_HERSHEY_SIMPLEX, 0.8, (0, 255, 255), 2, cv2.LINE_AA)\n",
    "            cv2.imshow(\"Gender Detection\", frameFace)     \n",
    "                \n",
    "            break_time = t-init_time\n",
    "               \n",
    "            if cv2.waitKey(2) & 0xFF == ord(\"q\"):\n",
    "                break\n",
    "                \n",
    "        if break_time > seq_forward_time:     \n",
    "            break\n",
    "       \n",
    "    cap.release()\n",
    "    cv2.destroyAllWindows()\n",
    "    print(all_genders)"
   ]
  },
  {
   "cell_type": "code",
   "execution_count": 12,
   "metadata": {},
   "outputs": [
    {
     "name": "stdout",
     "output_type": "stream",
     "text": [
      "['Male', 'Male', 'Male', 'Male', 'Male', 'Male', 'Male', 'Male', 'Male', 'Male', 'Male', 'Male', 'Male', 'Male', 'Male', 'Male', 'Male', 'Male', 'Female', 'Female', 'Male', 'Male', 'Male', 'Male', 'Male']\n"
     ]
    }
   ],
   "source": [
    "detect_age()"
   ]
  },
  {
   "cell_type": "code",
   "execution_count": null,
   "metadata": {},
   "outputs": [],
   "source": []
  }
 ],
 "metadata": {
  "kernelspec": {
   "display_name": "Python 3",
   "language": "python",
   "name": "python3"
  },
  "language_info": {
   "codemirror_mode": {
    "name": "ipython",
    "version": 3
   },
   "file_extension": ".py",
   "mimetype": "text/x-python",
   "name": "python",
   "nbconvert_exporter": "python",
   "pygments_lexer": "ipython3",
   "version": "3.8.5"
  }
 },
 "nbformat": 4,
 "nbformat_minor": 5
}
