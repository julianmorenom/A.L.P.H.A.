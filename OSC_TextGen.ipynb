{
 "cells": [
  {
   "cell_type": "markdown",
   "id": "0d40c683",
   "metadata": {},
   "source": [
    "# OSC + TextGen"
   ]
  },
  {
   "cell_type": "code",
   "execution_count": null,
   "id": "642b6183",
   "metadata": {
    "jupyter": {
     "outputs_hidden": true
    },
    "tags": []
   },
   "outputs": [],
   "source": [
    "# Install python OSC\n",
    "!pip install python-osc\n",
    "# Install PyTorch (Check the correct version at https://pytorch.org/)\n",
    "!pip3 install torch==1.9.0+cu111 torchvision==0.10.0+cu111 torchaudio===0.9.0 -f https://download.pytorch.org/whl/torch_stable.html\n",
    "# Install transformers\n",
    "!pip install transformers\n",
    "# Install ipywidgets\n",
    "!pip install ipywidgets"
   ]
  },
  {
   "cell_type": "code",
   "execution_count": 1,
   "id": "4ff9940c",
   "metadata": {},
   "outputs": [],
   "source": [
    "# Import dependencies for TEXT_Generation\n",
    "from pythonosc import dispatcher\n",
    "from pythonosc import osc_server\n",
    "from pythonosc import osc_message_builder\n",
    "from pythonosc import udp_client\n",
    "from transformers import pipeline\n",
    "\n",
    "import argparse\n",
    "import random"
   ]
  },
  {
   "cell_type": "code",
   "execution_count": null,
   "id": "8052f03c",
   "metadata": {},
   "outputs": [],
   "source": [
    "# from transformers import GPTNeoModel, GPTNeoConfig"
   ]
  },
  {
   "cell_type": "markdown",
   "id": "6a9fa9e1",
   "metadata": {},
   "source": [
    "# Textgenerator Set-up"
   ]
  },
  {
   "cell_type": "code",
   "execution_count": 2,
   "id": "5c9e2a74",
   "metadata": {
    "tags": []
   },
   "outputs": [],
   "source": [
    "generator = pipeline('text-generation', model='EleutherAI/gpt-neo-2.7B')"
   ]
  },
  {
   "cell_type": "code",
   "execution_count": null,
   "id": "a3d73d4d",
   "metadata": {},
   "outputs": [],
   "source": [
    "# generatorSmall = pipeline('text-generation', model='EleutherAI/gpt-neo-1.3B')"
   ]
  },
  {
   "cell_type": "code",
   "execution_count": 3,
   "id": "a524cc41",
   "metadata": {},
   "outputs": [],
   "source": [
    "prompt = \"I see an angry person walking by\""
   ]
  },
  {
   "cell_type": "code",
   "execution_count": 4,
   "id": "8ff4cef5",
   "metadata": {},
   "outputs": [
    {
     "name": "stderr",
     "output_type": "stream",
     "text": [
      "Using pad_token, but it is not set yet.\n",
      "Setting `pad_token_id` to `eos_token_id`:50256 for open-end generation.\n"
     ]
    }
   ],
   "source": [
    "res = generator(prompt, max_length=100, do_sample=True, temperature=0.9)"
   ]
  },
  {
   "cell_type": "code",
   "execution_count": 5,
   "id": "627882d2",
   "metadata": {},
   "outputs": [
    {
     "name": "stdout",
     "output_type": "stream",
     "text": [
      "I see an angry person walking by and I don’t hesitate to call him a fascist, but in doing so am I in fact making a statement.\n",
      "\n",
      "As a writer I’m not supposed to be too political in my writing. What I do is write about what makes people tick so I can better understand what we do in everyday life. And yet I have also seen the hate and intolerance of the word ‘fascist’.\n",
      "\n",
      "Fascism is a word\n"
     ]
    }
   ],
   "source": [
    "print(res[0]['generated_text'])"
   ]
  },
  {
   "cell_type": "code",
   "execution_count": 1,
   "id": "3e8c0d30",
   "metadata": {
    "tags": []
   },
   "outputs": [
    {
     "ename": "NameError",
     "evalue": "name 'udp_client' is not defined",
     "output_type": "error",
     "traceback": [
      "\u001b[1;31m---------------------------------------------------------------------------\u001b[0m",
      "\u001b[1;31mNameError\u001b[0m                                 Traceback (most recent call last)",
      "\u001b[1;32m<ipython-input-1-446e3edad801>\u001b[0m in \u001b[0;36m<module>\u001b[1;34m\u001b[0m\n\u001b[0;32m     45\u001b[0m \u001b[1;33m\u001b[0m\u001b[0m\n\u001b[0;32m     46\u001b[0m     \u001b[1;31m# Sending OSC\u001b[0m\u001b[1;33m\u001b[0m\u001b[1;33m\u001b[0m\u001b[1;33m\u001b[0m\u001b[0m\n\u001b[1;32m---> 47\u001b[1;33m     \u001b[0mclient\u001b[0m \u001b[1;33m=\u001b[0m \u001b[0mudp_client\u001b[0m\u001b[1;33m.\u001b[0m\u001b[0mSimpleUDPClient\u001b[0m\u001b[1;33m(\u001b[0m\u001b[0mip\u001b[0m\u001b[1;33m,\u001b[0m \u001b[0msendPort\u001b[0m\u001b[1;33m)\u001b[0m\u001b[1;33m\u001b[0m\u001b[1;33m\u001b[0m\u001b[0m\n\u001b[0m\u001b[0;32m     48\u001b[0m \u001b[1;33m\u001b[0m\u001b[0m\n\u001b[0;32m     49\u001b[0m     \u001b[1;31m# Catches OSC messsages\u001b[0m\u001b[1;33m\u001b[0m\u001b[1;33m\u001b[0m\u001b[1;33m\u001b[0m\u001b[0m\n",
      "\u001b[1;31mNameError\u001b[0m: name 'udp_client' is not defined"
     ]
    }
   ],
   "source": [
    "# Working OSC send receive network\n",
    "\n",
    "# Functions \n",
    "\n",
    "def feeling_happy():\n",
    "    print('Generating. Please wait')\n",
    "    prompt = random.choice(happy)\n",
    "    res = generator(prompt, max_length=60, do_sample=True, temperature=0.9)\n",
    "    print(res[0]['generated_text'])\n",
    "\n",
    "def feeling_sad():\n",
    "    print('Generating. Please wait')\n",
    "    prompt = random.choice(sad)\n",
    "    res = generator(prompt, max_length=60, do_sample=True, temperature=0.9)\n",
    "    print(res[0]['generated_text'])\n",
    "\n",
    "def feeling_silly():\n",
    "    print('Generating. Please wait')\n",
    "    prompt = random.choice(silly)\n",
    "    res = generator(prompt, max_length=60, do_sample=True, temperature=0.9)\n",
    "    print(res[0]['generated_text'])\n",
    "\n",
    "def function_to_be_called(unused_addr, args):\n",
    "    \n",
    "    if args == 1:\n",
    "        # feeling_happy()\n",
    "        print('this is working 1')\n",
    "    elif args == 2:\n",
    "        # feeling_sad()\n",
    "        print('this is working 2')\n",
    "    elif args == 3:\n",
    "        # feeling_silly()\n",
    "        print('this is working 3')\n",
    "    else:\n",
    "        print(\"unknown value\")\n",
    "        \n",
    "    #print(\"message received\")\n",
    "    # print(args)\n",
    "    #client.send_message(\"/outgoing_message\", \"hello world\")\n",
    "\n",
    "if __name__ == \"__main__\":\n",
    "    ip = \"127.0.0.1\"\n",
    "    sendPort = 7000\n",
    "    inPort = 9100\n",
    "    \n",
    "    # Sending OSC\n",
    "    client = udp_client.SimpleUDPClient(ip, sendPort)\n",
    "    \n",
    "    # Catches OSC messsages\n",
    "    dispatcher = dispatcher.Dispatcher()\n",
    "    dispatcher.map(\"/chan1\", function_to_be_called)\n",
    "    #dispatcher.map(\"/incomming_message_name\", print)\n",
    "    \n",
    "    # Set up server to listen for osc messages\n",
    "    server = osc_server.ThreadingOSCUDPServer((ip, inPort), dispatcher)\n",
    "    print(\"servering on {}\".format(server.server_address))\n",
    "    server.serve_forever() # Start up a python process that constantly listens for incomming messages\n",
    "      "
   ]
  },
  {
   "cell_type": "code",
   "execution_count": null,
   "id": "70c29865",
   "metadata": {},
   "outputs": [],
   "source": [
    "def hello_func(greeting):\n",
    "    return 'Hello Function'\n",
    "\n",
    "print(hello_func())"
   ]
  },
  {
   "cell_type": "code",
   "execution_count": null,
   "id": "43d9adc7",
   "metadata": {},
   "outputs": [],
   "source": [
    "print(happy[3])"
   ]
  },
  {
   "cell_type": "code",
   "execution_count": null,
   "id": "9860ae76",
   "metadata": {},
   "outputs": [],
   "source": [
    "import random\n",
    "\n",
    "print(random.choice(silly))"
   ]
  },
  {
   "cell_type": "code",
   "execution_count": null,
   "id": "eaf6e831",
   "metadata": {},
   "outputs": [],
   "source": [
    "from tqdm import tqdm\n",
    "from time import sleep"
   ]
  }
 ],
 "metadata": {
  "kernelspec": {
   "display_name": "Python 3 (ipykernel)",
   "language": "python",
   "name": "python3"
  },
  "language_info": {
   "codemirror_mode": {
    "name": "ipython",
    "version": 3
   },
   "file_extension": ".py",
   "mimetype": "text/x-python",
   "name": "python",
   "nbconvert_exporter": "python",
   "pygments_lexer": "ipython3",
   "version": "3.9.7"
  }
 },
 "nbformat": 4,
 "nbformat_minor": 5
}
