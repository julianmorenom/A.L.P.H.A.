{
 "cells": [
  {
   "cell_type": "markdown",
   "metadata": {},
   "source": [
    "# OSC + TextGen"
   ]
  },
  {
   "cell_type": "code",
   "execution_count": 4,
   "metadata": {},
   "outputs": [],
   "source": [
    "# Import dependencies for TEXT_Generation\n",
    "from pythonosc import dispatcher\n",
    "from pythonosc import osc_server\n",
    "from pythonosc import osc_message_builder\n",
    "from pythonosc import udp_client\n",
    "from transformers import pipeline\n",
    "from transformers import GPTNeoModel, GPTNeoConfig\n",
    "\n",
    "import argparse\n",
    "import random"
   ]
  },
  {
   "cell_type": "markdown",
   "metadata": {},
   "source": [
    "# Textgenerator Set-up"
   ]
  },
  {
   "cell_type": "code",
   "execution_count": 5,
   "metadata": {
    "tags": []
   },
   "outputs": [],
   "source": [
    "generator = pipeline('text-generation', model='EleutherAI/gpt-neo-2.7B')"
   ]
  },
  {
   "cell_type": "code",
   "execution_count": 1,
   "metadata": {
    "tags": []
   },
   "outputs": [
    {
     "ename": "NameError",
     "evalue": "name 'udp_client' is not defined",
     "output_type": "error",
     "traceback": [
      "\u001b[1;31m---------------------------------------------------------------------------\u001b[0m",
      "\u001b[1;31mNameError\u001b[0m                                 Traceback (most recent call last)",
      "\u001b[1;32m<ipython-input-1-446e3edad801>\u001b[0m in \u001b[0;36m<module>\u001b[1;34m\u001b[0m\n\u001b[0;32m     45\u001b[0m \u001b[1;33m\u001b[0m\u001b[0m\n\u001b[0;32m     46\u001b[0m     \u001b[1;31m# Sending OSC\u001b[0m\u001b[1;33m\u001b[0m\u001b[1;33m\u001b[0m\u001b[1;33m\u001b[0m\u001b[0m\n\u001b[1;32m---> 47\u001b[1;33m     \u001b[0mclient\u001b[0m \u001b[1;33m=\u001b[0m \u001b[0mudp_client\u001b[0m\u001b[1;33m.\u001b[0m\u001b[0mSimpleUDPClient\u001b[0m\u001b[1;33m(\u001b[0m\u001b[0mip\u001b[0m\u001b[1;33m,\u001b[0m \u001b[0msendPort\u001b[0m\u001b[1;33m)\u001b[0m\u001b[1;33m\u001b[0m\u001b[1;33m\u001b[0m\u001b[0m\n\u001b[0m\u001b[0;32m     48\u001b[0m \u001b[1;33m\u001b[0m\u001b[0m\n\u001b[0;32m     49\u001b[0m     \u001b[1;31m# Catches OSC messsages\u001b[0m\u001b[1;33m\u001b[0m\u001b[1;33m\u001b[0m\u001b[1;33m\u001b[0m\u001b[0m\n",
      "\u001b[1;31mNameError\u001b[0m: name 'udp_client' is not defined"
     ]
    }
   ],
   "source": [
    "# Working OSC send receive network\n",
    "\n",
    "# Functions \n",
    "\n",
    "def feeling_happy(prompt):\n",
    "    print('Generating. Please wait')\n",
    "    prompt = random.choice(happy)\n",
    "    res = generator(prompt, max_length=60, do_sample=True, temperature=0.9)\n",
    "    print(res[0]['generated_text'])\n",
    "\n",
    "def feeling_sad(prompt):\n",
    "    print('Generating. Please wait')\n",
    "    prompt = random.choice(sad)\n",
    "    res = generator(prompt, max_length=60, do_sample=True, temperature=0.9)\n",
    "    print(res[0]['generated_text'])\n",
    "\n",
    "def feeling_silly(prompt):\n",
    "    print('Generating. Please wait')\n",
    "    prompt = random.choice(silly)\n",
    "    res = generator(prompt, max_length=60, do_sample=True, temperature=0.9)\n",
    "    print(res[0]['generated_text'])\n",
    "      "
   ]
  },
  {
   "cell_type": "code",
   "execution_count": null,
   "metadata": {},
   "outputs": [],
   "source": [
    "def hello_func(greeting):\n",
    "    return 'Hello Function'\n",
    "\n",
    "print(hello_func())"
   ]
  },
  {
   "cell_type": "code",
   "execution_count": null,
   "metadata": {},
   "outputs": [],
   "source": [
    "print(happy[3])"
   ]
  },
  {
   "cell_type": "code",
   "execution_count": null,
   "metadata": {},
   "outputs": [],
   "source": [
    "import random\n",
    "\n",
    "print(random.choice(silly))"
   ]
  },
  {
   "cell_type": "code",
   "execution_count": null,
   "metadata": {},
   "outputs": [],
   "source": [
    "from tqdm import tqdm\n",
    "from time import sleep"
   ]
  }
 ],
 "metadata": {
  "kernelspec": {
   "display_name": "Python 3",
   "language": "python",
   "name": "python3"
  },
  "language_info": {
   "codemirror_mode": {
    "name": "ipython",
    "version": 3
   },
   "file_extension": ".py",
   "mimetype": "text/x-python",
   "name": "python",
   "nbconvert_exporter": "python",
   "pygments_lexer": "ipython3",
   "version": "3.8.5"
  }
 },
 "nbformat": 4,
 "nbformat_minor": 5
}
