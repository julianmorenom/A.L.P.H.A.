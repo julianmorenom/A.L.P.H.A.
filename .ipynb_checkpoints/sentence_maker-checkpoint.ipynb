{
 "cells": [
  {
   "cell_type": "code",
   "execution_count": 1,
   "metadata": {},
   "outputs": [],
   "source": [
    "import random"
   ]
  },
  {
   "cell_type": "code",
   "execution_count": 8,
   "metadata": {},
   "outputs": [],
   "source": [
    "# Lists\n",
    "happiness1 = ['It is your pleasant disposition of happiness ', \n",
    "              'I cannot help but smile as you make me feel happy ', \n",
    "              'You are a soul who understand how to feel happiness', \n",
    "              'Like the rays of a shining sun you exude the feeling of happiness ']\n",
    "\n",
    "happiness2 = ['which can be likened to a ', \n",
    "              'in the very same way like a ', \n",
    "              'I shall compare thee to a ', \n",
    "              'your warmth is akin to that of a ']\n",
    "\n",
    "objects = ['bicycle.', 'car.', 'motorcycle.', 'bird.', 'cat.', 'horse.', 'umbrella.']"
   ]
  },
  {
   "cell_type": "code",
   "execution_count": 13,
   "metadata": {},
   "outputs": [],
   "source": [
    "string1 = random.choice(happiness1)\n",
    "string2 = random.choice(happiness2)\n",
    "objectDetected = random.choice(objects)"
   ]
  },
  {
   "cell_type": "code",
   "execution_count": 14,
   "metadata": {},
   "outputs": [
    {
     "name": "stdout",
     "output_type": "stream",
     "text": [
      "Like the rays of a shining sun you exude the feeling of happiness your warmth is akin to that of a horse.\n"
     ]
    }
   ],
   "source": [
    "inputText = string1 + string2 + objectDetected\n",
    "print(inputText)"
   ]
  },
  {
   "cell_type": "code",
   "execution_count": null,
   "metadata": {},
   "outputs": [],
   "source": []
  }
 ],
 "metadata": {
  "kernelspec": {
   "display_name": "Python 3",
   "language": "python",
   "name": "python3"
  },
  "language_info": {
   "codemirror_mode": {
    "name": "ipython",
    "version": 3
   },
   "file_extension": ".py",
   "mimetype": "text/x-python",
   "name": "python",
   "nbconvert_exporter": "python",
   "pygments_lexer": "ipython3",
   "version": "3.8.5"
  }
 },
 "nbformat": 4,
 "nbformat_minor": 5
}
