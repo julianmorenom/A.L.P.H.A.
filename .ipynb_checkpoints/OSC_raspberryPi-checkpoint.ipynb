{
 "cells": [
  {
   "cell_type": "code",
   "execution_count": 6,
   "metadata": {},
   "outputs": [
    {
     "name": "stdout",
     "output_type": "stream",
     "text": [
      "Requirement already satisfied: python-osc in /opt/anaconda3/envs/python38/lib/python3.8/site-packages (1.7.7)\n"
     ]
    }
   ],
   "source": [
    "# Install python OSC\n",
    "!pip install python-osc"
   ]
  },
  {
   "cell_type": "code",
   "execution_count": 1,
   "metadata": {},
   "outputs": [],
   "source": [
    "from pythonosc import dispatcher\n",
    "from pythonosc import osc_server"
   ]
  },
  {
   "cell_type": "code",
   "execution_count": null,
   "metadata": {},
   "outputs": [
    {
     "name": "stdout",
     "output_type": "stream",
     "text": [
      "servering on ('127.0.0.1', 9000)\n"
     ]
    }
   ],
   "source": [
    "def message_to_printer(unused_addr, args):\n",
    "    \n",
    "    message = args\n",
    "    print(message) \n",
    "        \n",
    "if __name__ == \"__main__\":\n",
    "    ip = \"127.0.0.1\"\n",
    "    #sendPort = 7000\n",
    "    inPort = 9000\n",
    "    \n",
    "    # Catches OSC messsages\n",
    "    dispatcher = dispatcher.Dispatcher()\n",
    "    dispatcher.map(\"/message_to_raspPi\", message_to_printer)\n",
    "    \n",
    "    # Set up server to listen for osc messages\n",
    "    server = osc_server.ThreadingOSCUDPServer((ip, inPort), dispatcher)\n",
    "    print(\"servering on {}\".format(server.server_address))\n",
    "    server.serve_forever() # Start up a python process that constantly listens for incomming messages\n",
    "    "
   ]
  },
  {
   "cell_type": "code",
   "execution_count": null,
   "metadata": {},
   "outputs": [],
   "source": []
  }
 ],
 "metadata": {
  "kernelspec": {
   "display_name": "Python 3",
   "language": "python",
   "name": "python3"
  },
  "language_info": {
   "codemirror_mode": {
    "name": "ipython",
    "version": 3
   },
   "file_extension": ".py",
   "mimetype": "text/x-python",
   "name": "python",
   "nbconvert_exporter": "python",
   "pygments_lexer": "ipython3",
   "version": "3.8.5"
  }
 },
 "nbformat": 4,
 "nbformat_minor": 5
}
